{
 "cells": [
  {
   "cell_type": "code",
   "execution_count": 1,
   "metadata": {},
   "outputs": [
    {
     "name": "stderr",
     "output_type": "stream",
     "text": [
      "c:\\Users\\manki\\miniconda3\\envs\\pytorch\\Lib\\site-packages\\tqdm\\auto.py:21: TqdmWarning: IProgress not found. Please update jupyter and ipywidgets. See https://ipywidgets.readthedocs.io/en/stable/user_install.html\n",
      "  from .autonotebook import tqdm as notebook_tqdm\n"
     ]
    }
   ],
   "source": [
    "import numpy as np\n",
    "import os\n",
    "import matplotlib.pyplot as plt\n",
    "import torch\n",
    "import torch.nn as nn\n",
    "\n",
    "# from itertools import starmap\n",
    "from utils import save_model, save_plots\n",
    "from CNN_execution import plot_roc_curve, ect_train_validate, report_trained_model, find_numpy_files"
   ]
  },
  {
   "cell_type": "code",
   "execution_count": 2,
   "metadata": {},
   "outputs": [],
   "source": [
    "# Parameters required to define the model. \n",
    "# Will remain same throught the excerise.\n",
    " \n",
    "NUM_EPOCHS = 50 # number of epochs to train the network for; type=int\n",
    "LEARNING_RATE = 1e-3 # learning rate for training; type=float\n",
    "# loss function\n",
    "lossfcn = nn.CrossEntropyLoss()\n",
    "\n",
    "# device\n",
    "device = ('cuda' if torch.cuda.is_available() else 'cpu')"
   ]
  },
  {
   "cell_type": "code",
   "execution_count": 3,
   "metadata": {},
   "outputs": [
    {
     "name": "stdout",
     "output_type": "stream",
     "text": [
      "Using 30 data for training\n"
     ]
    }
   ],
   "source": [
    "num_dirs = 5\n",
    "num_thresh = 5\n",
    "\n",
    "classes = [\n",
    "    i\n",
    "        for i in os.listdir('data')\n",
    "        if os.path.isdir(os.path.join('data', i))\n",
    "]\n",
    "class_items = {\n",
    "    i: find_numpy_files(os.path.join('data', i))\n",
    "        for i in classes\n",
    "}\n",
    "\n",
    "num_data_to_use_for_training = min( [len(class_items[i]) for i in classes] )\n",
    "num_data_to_use_for_training = 30\n",
    "print(f\"Using {num_data_to_use_for_training} data for training\")\n",
    "\n",
    "class_items = {\n",
    "    class_name: np.random.choice( file_paths, num_data_to_use_for_training, replace=False)\n",
    "        for class_name, file_paths in class_items.items()\n",
    "}"
   ]
  },
  {
   "cell_type": "code",
   "execution_count": 4,
   "metadata": {},
   "outputs": [
    {
     "name": "stdout",
     "output_type": "stream",
     "text": [
      "Help on function ect_train_validate in module CNN_execution:\n",
      "\n",
      "ect_train_validate(num_dirs, num_thresh, input_path=None, output_ect_path='example_data/ect_output', in_memory=False, output_model_path='outputs/best_model.pth', num_epochs=50, learning_rate=0.001, lossfcn=CrossEntropyLoss(), batch_size=4, valid_split=0.2, num_workers=0, device=device(type='cuda'), recompute_ect=True, log_level='INFO')\n",
      "    Function to train and validate the CNN model using the ECT dataset.\n",
      "    Usage:\n",
      "        ect_train_validate(\n",
      "            num_dirs, num_thresh, input_path=None,\n",
      "            output_ect_path=\"example_data/ect_output\", in_memory=False,\n",
      "            output_model_path=\"outputs/best_model.pth\",\n",
      "            num_epochs=50, learning_rate=1e-3, lossfcn=nn.CrossEntropyLoss(),\n",
      "            batch_size=4, valid_split=0.2, num_workers=0,\n",
      "            device=torch.device('cuda' if torch.cuda.is_available() else 'cpu'),\n",
      "            recompute_ect=True, log_level='INFO'\n",
      "        )\n",
      "    Parameters:\n",
      "        num_dirs: int, number of directions for ECT calculation.\n",
      "        num_thresh: int, number of thresholds for ECT calculation.\n",
      "        input_path: str, path to the input data directory.\n",
      "        output_ect_path: str, path to save the ECT dataset. Optional, default is 'example_data/ect_output'.\n",
      "        output_model_path: str, path to save the trained model. Optional, default is 'outputs/best_model.pth'.\n",
      "        in_memory: bool, if True, the calculated ECT dataset is stored in memory and never written to files. Optional, default is False.\n",
      "        num_epochs: int, number of epochs for training. Optional, default is 50.\n",
      "        learning_rate: float, learning rate for the optimizer. Optional, default is 1e-3.\n",
      "        lossfcn: torch.nn loss function, loss function for the model.\n",
      "            Optional, default is nn.CrossEntropyLoss().\n",
      "        batch_size: int,\n",
      "            Number of data loaded per epoch for training. Optional, default is 4.\n",
      "            Higher batch size will require more memory and may speed up the training. Howerver, it may cause the model to be stuck in local minima.\n",
      "            Lower batch size will require less memory and may slow down the training. However, it may help the model to escape local minima.\n",
      "            Smaller the batch size, the more epochs are required to train the model.\n",
      "        valid_split: float,\n",
      "            Fractional ratio of data to set aside for validation. Optional, default is 0.2.\n",
      "        num_workers: int,\n",
      "            Number of workers for the data loader. Optional, default is 0.\n",
      "            Represents the number of cpu cores used for data loading.\n",
      "            This is useful for speeding up the data loading step specially when using gpu to train the model.\n",
      "            However, it requires more memory.\n",
      "        device: torch.device,\n",
      "            Device to run the model.\n",
      "        recompute_ect: bool,\n",
      "            If True, compute the ECT dataset. Optional, default is True.\n",
      "            If False, the out_path is used as the precomputed ECT dataset.\n",
      "        log_level: str or bool,\n",
      "            If True or 'INFO', print progress messages.\n",
      "\n"
     ]
    }
   ],
   "source": [
    "help(ect_train_validate)\n",
    "\n",
    "# trained_outputs = ect_train_validate(\n",
    "#     num_dirs=num_dirs,\n",
    "#     num_thresh=num_thresh,\n",
    "#     input_path=None,\n",
    "#     output_ect_path='example_data/outputs',\n",
    "#     output_model_path='example_data/best_model.pth',\n",
    "#     log_level='INFO',\n",
    "#     recompute_ect=False\n",
    "# )"
   ]
  },
  {
   "cell_type": "code",
   "execution_count": 5,
   "metadata": {},
   "outputs": [
    {
     "name": "stdout",
     "output_type": "stream",
     "text": [
      "Help on function save_model in module utils:\n",
      "\n",
      "save_model(epochs, model, optimizer, criterion, output_model_path='outputs/best_model.pth')\n",
      "    Function to save the trained model.\n",
      "    Adapted from https://debuggercafe.com/saving-and-loading-the-best-model-in-pytorch/\n",
      "\n"
     ]
    }
   ],
   "source": [
    "help(save_model)\n",
    "# save_model(\n",
    "#     epochs=trained_outputs[\"num_epochs\"],\n",
    "#     model=trained_outputs[\"model\"],\n",
    "#     optimizer=trained_outputs[\"optimizer\"],\n",
    "#     criterion=trained_outputs[\"lossfcn\"],\n",
    "#     output_model_path='example_data/best_model.pth',\n",
    "# )\n"
   ]
  },
  {
   "cell_type": "code",
   "execution_count": 6,
   "metadata": {},
   "outputs": [
    {
     "name": "stdout",
     "output_type": "stream",
     "text": [
      "Help on function save_plots in module utils:\n",
      "\n",
      "save_plots(train_acc, valid_acc, train_loss, valid_loss, accuracy=None, loss=None, fig_size=(10, 7), dpi=300, accuracy_path='outputs/accuracy.png', loss_path='outputs/loss.png')\n",
      "    Function to save the loss and accuracy plots.\n",
      "    Usage:\n",
      "        save_plots(\n",
      "            train_acc, valid_acc, train_loss,valid_loss,\n",
      "            accuracy = None, loss = None,\n",
      "            fig_size=(10, 7), dpi=300,\n",
      "            accuracy_path = 'outputs/accuracy.png', loss_path = 'outputs/loss.png'\n",
      "        )\n",
      "    Parameters:\n",
      "        train_acc: list of training accuracy values\n",
      "        valid_acc: list of validation accuracy values\n",
      "        train_loss: list of training loss values\n",
      "        valid_loss: list of validation loss values\n",
      "        accuracy: matplotlib axis to plot accuracy. If None, a new figure is created.\n",
      "        loss: matplotlib axis to plot loss. If None, a new figure is created.\n",
      "        fig_size: tuple, size of the figure. Default is (10, 7)\n",
      "        dpi: int, resolution of the figure. Default is 300\n",
      "        accuracy_path: str, path to save the accuracy plot. Default is 'outputs/accuracy.png'\n",
      "        loss_path: str, path to save the loss plot. Default is 'outputs/loss.png'\n",
      "\n"
     ]
    }
   ],
   "source": [
    "help(save_plots)\n",
    "# loss, acc = plt.figure(figsize=(9,5)).subplots(1, 2)\n",
    "# save_plots(\n",
    "#     train_acc= trained_outputs[\"train_acc\"],\n",
    "#     valid_acc= trained_outputs[\"valid_acc\"],\n",
    "#     train_loss= trained_outputs[\"train_loss\"],\n",
    "#     valid_loss= trained_outputs[\"valid_loss\"],\n",
    "#     loss=loss,\n",
    "#     accuracy=acc,\n",
    "#     accuracy_path='example_data/accuracy.png',\n",
    "#     loss_path='example_data/loss.png'\n",
    "# )\n"
   ]
  },
  {
   "cell_type": "code",
   "execution_count": 7,
   "metadata": {},
   "outputs": [
    {
     "name": "stdout",
     "output_type": "stream",
     "text": [
      "Help on function report_trained_model in module CNN_execution:\n",
      "\n",
      "report_trained_model(num_dirs, num_thresh, train_dataset, train_loader, test_loader, test_dataset, device=device(type='cuda'), model_path='outputs/best_model.pth', output_cf='outputs/confusion_matrix.png', output_report='outputs/outputCLFreport.csv', log_level='INFO')\n",
      "    Function to report the trained model.\n",
      "    Usage:\n",
      "        report_trained_model(\n",
      "            num_dirs, num_thresh,\n",
      "            train_dataset, train_loader, test_loader, test_dataset,\n",
      "            device=torch.device('cuda' if torch.cuda.is_available() else 'cpu'),\n",
      "            model_path= 'outputs/best_model.pth',\n",
      "            output_cf='outputs/confusion_matrix.png',\n",
      "            output_report='outputs/outputCLFreport.csv',\n",
      "            log_level='INFO'\n",
      "        )\n",
      "    Parameters:\n",
      "        num_dirs: int, number of directions for ECT calculation.\n",
      "        num_thresh: int, number of thresholds for ECT calculation.\n",
      "        train_dataset: torch.utils.data.Dataset, training dataset.\n",
      "        train_loader: torch.utils.data.DataLoader, training data loader.\n",
      "        test_loader: torch.utils.data.DataLoader, test data loader.\n",
      "        test_dataset: torch.utils.data.Dataset, test dataset.\n",
      "        device: torch.device, device to run the model. Optional, default is 'cuda' if available else 'cpu'.\n",
      "        model_path: str, path to the trained model. Optional, default is 'outputs/best_model.pth'.\n",
      "        output_cf: str, path to save the confusion matrix plot. Optional, default is 'outputs/confusion_matrix.png'.\n",
      "        output_report: str, path to save the classification report. Optional, default is 'outputs/outputCLFreport.csv'.\n",
      "        log_level: str or bool, if True or 'INFO', print progress messages.\n",
      "\n"
     ]
    }
   ],
   "source": [
    "help(report_trained_model)\n",
    "# report_trained_model(\n",
    "#     num_dirs=num_dirs,\n",
    "#     num_thresh=num_thresh,\n",
    "#     train_dataset=trained_outputs[\"train_dataset\"],\n",
    "#     train_loader=trained_outputs[\"train_loader\"],\n",
    "#     test_loader=trained_outputs[\"test_loader\"],\n",
    "#     test_dataset=trained_outputs[\"test_dataset\"],\n",
    "#     model_path='example_data/best_model.pth',\n",
    "#     output_cf='example_data/confusion_matrix.png',\n",
    "#     output_report='example_data/accuracy.txt',\n",
    "#     log_level='INFO'\n",
    "# )"
   ]
  },
  {
   "cell_type": "code",
   "execution_count": 8,
   "metadata": {},
   "outputs": [
    {
     "name": "stdout",
     "output_type": "stream",
     "text": [
      "Help on function plot_roc_curve in module CNN_execution:\n",
      "\n",
      "plot_roc_curve(model, test_loader, test_dataset, device=device(type='cuda'), axis=None, output_path='outputs/roc_curve.png')\n",
      "    Function to plot the ROC curve for the trained model.\n",
      "    Usage:\n",
      "        plot_roc_curve(model, test_loader, test_dataset, device=torch.device('cuda' if torch.cuda.is_available() else 'cpu'))\n",
      "    Parameters:\n",
      "        model: torch.nn model, trained model.\n",
      "        test_loader: torch.utils.data.DataLoader, test data loader.\n",
      "        test_dataset: torch.utils.data.Dataset, test dataset.\n",
      "        device: torch.device, device to run the model. Optional, default is 'cuda' if available else 'cpu'.\n",
      "\n"
     ]
    }
   ],
   "source": [
    "help(plot_roc_curve)\n",
    "# plot_roc_curve(\n",
    "#     model=trained_outputs[\"model\"],\n",
    "#     test_loader=trained_outputs[\"test_loader\"],\n",
    "#     test_dataset=trained_outputs[\"test_dataset\"],\n",
    "#     output_path='example_data/roc_curve.png'\n",
    "# )"
   ]
  },
  {
   "cell_type": "markdown",
   "metadata": {},
   "source": [
    "The following python code will extract the data from the zip files in the data folder and put them in the appropriate folders. The code will create a folder for each class and extract all the class member zip files into that folder. The code will also handle the case where the class member zip files are named with a prefix of the class name.\n",
    "\n",
    "```python\n",
    "\n",
    "toplevel = [i for i in os.listdir('data') if not ( i.startswith('.') or i.startswith('2') ) and os.path.isfile(os.path.join('data',i)) ]\n",
    "classes = {}\n",
    "for i in toplevel:\n",
    "    added = False\n",
    "    i = i[:-4] # Remove the .zip\n",
    "    for j in toplevel:\n",
    "        if i == j[:-4]:\n",
    "            continue\n",
    "        common = os.path.commonprefix([i,j])\n",
    "        if len(common) > 5:\n",
    "            added = True\n",
    "            classes[common] = classes.get(common,[]) + [j]\n",
    "    if not added:\n",
    "        classes[i] = classes.get(i,[]) + [i+'.zip']\n",
    "[os.makedirs(os.path.join('data',i), exist_ok=True) for i in classes]\n",
    "\n",
    "import zipfile as zp\n",
    "\n",
    "for folder, zipfiles in classes.items():\n",
    "    for z in zipfiles:\n",
    "        with zp.ZipFile(os.path.join('data',z), 'r') as f:\n",
    "            names = f.namelist()\n",
    "            for name in names:\n",
    "                if name.endswith('.npy'):\n",
    "                    f.extract(name, os.path.join('data',folder))"
   ]
  },
  {
   "cell_type": "markdown",
   "metadata": {},
   "source": []
  },
  {
   "cell_type": "code",
   "execution_count": null,
   "metadata": {},
   "outputs": [],
   "source": []
  }
 ],
 "metadata": {
  "kernelspec": {
   "display_name": "Python 3 (ipykernel)",
   "language": "python",
   "name": "python3"
  },
  "language_info": {
   "codemirror_mode": {
    "name": "ipython",
    "version": 3
   },
   "file_extension": ".py",
   "mimetype": "text/x-python",
   "name": "python",
   "nbconvert_exporter": "python",
   "pygments_lexer": "ipython3",
   "version": "3.12.5"
  }
 },
 "nbformat": 4,
 "nbformat_minor": 4
}
