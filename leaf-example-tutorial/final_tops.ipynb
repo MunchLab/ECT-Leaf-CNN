{
 "cells": [
  {
   "cell_type": "code",
   "execution_count": 1,
   "metadata": {},
   "outputs": [],
   "source": [
    "import numpy as np\n",
    "import os\n",
    "import matplotlib.pyplot as plt\n",
    "import torch\n",
    "import torch.nn as nn\n",
    "\n",
    "# from itertools import starmap\n",
    "from utils import save_model, save_plots\n",
    "from CNN_execution import plot_roc_curve, ect_train_validate, report_trained_model, find_numpy_files"
   ]
  },
  {
   "cell_type": "code",
   "execution_count": null,
   "metadata": {},
   "outputs": [],
   "source": [
    "# Parameters required to define the model. \n",
    "# Will remain same throught the excerise.\n",
    " \n",
    "NUM_EPOCHS = 10 # number of epochs to train the network for; type=int\n",
    "LEARNING_RATE = 1e-3 # learning rate for training; type=float\n",
    "# loss function\n",
    "lossfcn = nn.CrossEntropyLoss()\n",
    "\n",
    "# Number of workers for dataloader\n",
    "num_workers = int( os.environ.get('SLURM_CPUS_PER_TASK', default=0) ) - 2\n",
    "num_workers = 16 if num_workers < 0 else num_workers\n",
    "\n",
    "# device\n",
    "device = ('cuda' if torch.cuda.is_available() else 'cpu')"
   ]
  },
  {
   "cell_type": "code",
   "execution_count": 3,
   "metadata": {},
   "outputs": [
    {
     "name": "stdout",
     "output_type": "stream",
     "text": [
      "Using 865 data for training\n"
     ]
    }
   ],
   "source": [
    "data_dir = '../../data'\n",
    "classes = [\n",
    "    i\n",
    "        for i in os.listdir(data_dir)\n",
    "        if os.path.isdir(os.path.join(data_dir, i))\n",
    "]\n",
    "class_items = {\n",
    "    i: find_numpy_files(os.path.join(data_dir, i))\n",
    "        for i in classes\n",
    "}\n",
    "class_items.pop('Transect')\n",
    "class_items.pop('Leafsnap')\n",
    "\n",
    "num_data_to_use_for_training = min( [len(class_items[i]) for i in class_items] )\n",
    "# num_data_to_use_for_training = 64\n",
    "print(f\"Using {num_data_to_use_for_training} data for training\")\n",
    "\n",
    "class_items = {\n",
    "    class_name: np.random.choice( file_paths, num_data_to_use_for_training, replace=False)\n",
    "        for class_name, file_paths in class_items.items()\n",
    "}"
   ]
  },
  {
   "cell_type": "code",
   "execution_count": null,
   "metadata": {},
   "outputs": [
    {
     "name": "stdout",
     "output_type": "stream",
     "text": [
      "Computing ECT dataset by clearing out the output directory\n",
      "Saving final model...\n"
     ]
    },
    {
     "name": "stderr",
     "output_type": "stream",
     "text": [
      "/mnt/ufs18/rs-037/HRT841_FS24_001/ECT-Leaf-CNN/leaf-example-tutorial/CNN_execution.py:234: FutureWarning: You are using `torch.load` with `weights_only=False` (the current default value), which uses the default pickle module implicitly. It is possible to construct malicious pickle data which will execute arbitrary code during unpickling (See https://github.com/pytorch/pytorch/blob/main/SECURITY.md#untrusted-models for more details). In a future release, the default value for `weights_only` will be flipped to `True`. This limits the functions that could be executed during unpickling. Arbitrary objects will no longer be allowed to be loaded via this mode unless they are explicitly allowlisted by the user via `torch.serialization.add_safe_globals`. We recommend you start setting `weights_only=True` for any use case where you don't have full control of the loaded file. Please open an issue on GitHub for any issues related to this experimental feature.\n",
      "  state_dict = torch.load(model_path)['model_state_dict']\n"
     ]
    },
    {
     "name": "stdout",
     "output_type": "stream",
     "text": [
      "Using validation to compute ROC curve\n"
     ]
    },
    {
     "name": "stderr",
     "output_type": "stream",
     "text": [
      "/mnt/home/karkinis/.conda/envs/ECT_CNN.cpu/lib/python3.12/site-packages/sklearn/metrics/_classification.py:1531: UndefinedMetricWarning: Precision is ill-defined and being set to 0.0 in labels with no predicted samples. Use `zero_division` parameter to control this behavior.\n",
      "  _warn_prf(average, modifier, f\"{metric.capitalize()} is\", len(result))\n",
      "/mnt/home/karkinis/.conda/envs/ECT_CNN.cpu/lib/python3.12/site-packages/sklearn/metrics/_classification.py:1531: UndefinedMetricWarning: Precision is ill-defined and being set to 0.0 in labels with no predicted samples. Use `zero_division` parameter to control this behavior.\n",
      "  _warn_prf(average, modifier, f\"{metric.capitalize()} is\", len(result))\n",
      "/mnt/home/karkinis/.conda/envs/ECT_CNN.cpu/lib/python3.12/site-packages/sklearn/metrics/_classification.py:1531: UndefinedMetricWarning: Precision is ill-defined and being set to 0.0 in labels with no predicted samples. Use `zero_division` parameter to control this behavior.\n",
      "  _warn_prf(average, modifier, f\"{metric.capitalize()} is\", len(result))\n",
      "100%|██████████| 605/605 [00:01<00:00, 366.64it/s]\n"
     ]
    },
    {
     "name": "stdout",
     "output_type": "stream",
     "text": [
      "Completed training for 4 directions and 4 thresholds\n",
      "Computing ECT dataset by clearing out the output directory\n",
      "Saving final model...\n"
     ]
    },
    {
     "name": "stderr",
     "output_type": "stream",
     "text": [
      "/mnt/ufs18/rs-037/HRT841_FS24_001/ECT-Leaf-CNN/leaf-example-tutorial/CNN_execution.py:234: FutureWarning: You are using `torch.load` with `weights_only=False` (the current default value), which uses the default pickle module implicitly. It is possible to construct malicious pickle data which will execute arbitrary code during unpickling (See https://github.com/pytorch/pytorch/blob/main/SECURITY.md#untrusted-models for more details). In a future release, the default value for `weights_only` will be flipped to `True`. This limits the functions that could be executed during unpickling. Arbitrary objects will no longer be allowed to be loaded via this mode unless they are explicitly allowlisted by the user via `torch.serialization.add_safe_globals`. We recommend you start setting `weights_only=True` for any use case where you don't have full control of the loaded file. Please open an issue on GitHub for any issues related to this experimental feature.\n",
      "  state_dict = torch.load(model_path)['model_state_dict']\n"
     ]
    },
    {
     "name": "stdout",
     "output_type": "stream",
     "text": [
      "Using validation to compute ROC curve\n"
     ]
    },
    {
     "name": "stderr",
     "output_type": "stream",
     "text": [
      "100%|██████████| 605/605 [00:01<00:00, 344.56it/s]\n"
     ]
    },
    {
     "name": "stdout",
     "output_type": "stream",
     "text": [
      "Completed training for 8 directions and 8 thresholds\n",
      "Computing ECT dataset by clearing out the output directory\n",
      "Saving final model...\n"
     ]
    },
    {
     "name": "stderr",
     "output_type": "stream",
     "text": [
      "/mnt/ufs18/rs-037/HRT841_FS24_001/ECT-Leaf-CNN/leaf-example-tutorial/CNN_execution.py:234: FutureWarning: You are using `torch.load` with `weights_only=False` (the current default value), which uses the default pickle module implicitly. It is possible to construct malicious pickle data which will execute arbitrary code during unpickling (See https://github.com/pytorch/pytorch/blob/main/SECURITY.md#untrusted-models for more details). In a future release, the default value for `weights_only` will be flipped to `True`. This limits the functions that could be executed during unpickling. Arbitrary objects will no longer be allowed to be loaded via this mode unless they are explicitly allowlisted by the user via `torch.serialization.add_safe_globals`. We recommend you start setting `weights_only=True` for any use case where you don't have full control of the loaded file. Please open an issue on GitHub for any issues related to this experimental feature.\n",
      "  state_dict = torch.load(model_path)['model_state_dict']\n"
     ]
    },
    {
     "name": "stdout",
     "output_type": "stream",
     "text": [
      "Using validation to compute ROC curve\n"
     ]
    },
    {
     "name": "stderr",
     "output_type": "stream",
     "text": [
      "100%|██████████| 605/605 [00:02<00:00, 278.52it/s]\n"
     ]
    },
    {
     "name": "stdout",
     "output_type": "stream",
     "text": [
      "Completed training for 16 directions and 16 thresholds\n",
      "Computing ECT dataset by clearing out the output directory\n",
      "Saving final model...\n"
     ]
    },
    {
     "name": "stderr",
     "output_type": "stream",
     "text": [
      "/mnt/ufs18/rs-037/HRT841_FS24_001/ECT-Leaf-CNN/leaf-example-tutorial/CNN_execution.py:234: FutureWarning: You are using `torch.load` with `weights_only=False` (the current default value), which uses the default pickle module implicitly. It is possible to construct malicious pickle data which will execute arbitrary code during unpickling (See https://github.com/pytorch/pytorch/blob/main/SECURITY.md#untrusted-models for more details). In a future release, the default value for `weights_only` will be flipped to `True`. This limits the functions that could be executed during unpickling. Arbitrary objects will no longer be allowed to be loaded via this mode unless they are explicitly allowlisted by the user via `torch.serialization.add_safe_globals`. We recommend you start setting `weights_only=True` for any use case where you don't have full control of the loaded file. Please open an issue on GitHub for any issues related to this experimental feature.\n",
      "  state_dict = torch.load(model_path)['model_state_dict']\n"
     ]
    },
    {
     "name": "stdout",
     "output_type": "stream",
     "text": [
      "Using validation to compute ROC curve\n"
     ]
    },
    {
     "name": "stderr",
     "output_type": "stream",
     "text": [
      "100%|██████████| 605/605 [00:01<00:00, 372.97it/s]\n"
     ]
    },
    {
     "name": "stdout",
     "output_type": "stream",
     "text": [
      "Completed training for 32 directions and 32 thresholds\n",
      "Computing ECT dataset by clearing out the output directory\n",
      "Saving final model...\n"
     ]
    },
    {
     "name": "stderr",
     "output_type": "stream",
     "text": [
      "/mnt/ufs18/rs-037/HRT841_FS24_001/ECT-Leaf-CNN/leaf-example-tutorial/CNN_execution.py:234: FutureWarning: You are using `torch.load` with `weights_only=False` (the current default value), which uses the default pickle module implicitly. It is possible to construct malicious pickle data which will execute arbitrary code during unpickling (See https://github.com/pytorch/pytorch/blob/main/SECURITY.md#untrusted-models for more details). In a future release, the default value for `weights_only` will be flipped to `True`. This limits the functions that could be executed during unpickling. Arbitrary objects will no longer be allowed to be loaded via this mode unless they are explicitly allowlisted by the user via `torch.serialization.add_safe_globals`. We recommend you start setting `weights_only=True` for any use case where you don't have full control of the loaded file. Please open an issue on GitHub for any issues related to this experimental feature.\n",
      "  state_dict = torch.load(model_path)['model_state_dict']\n"
     ]
    },
    {
     "name": "stdout",
     "output_type": "stream",
     "text": [
      "Using validation to compute ROC curve\n"
     ]
    },
    {
     "name": "stderr",
     "output_type": "stream",
     "text": [
      "100%|██████████| 605/605 [00:02<00:00, 252.20it/s]\n"
     ]
    },
    {
     "name": "stdout",
     "output_type": "stream",
     "text": [
      "Completed training for 64 directions and 64 thresholds\n",
      "Computing ECT dataset by clearing out the output directory\n"
     ]
    },
    {
     "name": "stderr",
     "output_type": "stream",
     "text": [
      "/mnt/ufs18/rs-037/HRT841_FS24_001/ECT-Leaf-CNN/leaf-example-tutorial/CNN_execution.py:355: RuntimeWarning: More than 20 figures have been opened. Figures created through the pyplot interface (`matplotlib.pyplot.figure`) are retained until explicitly closed and may consume too much memory. (To control this warning, see the rcParam `figure.max_open_warning`). Consider using `matplotlib.pyplot.close()`.\n",
      "  fig, axes = plt.subplots(x,y)\n"
     ]
    }
   ],
   "source": [
    "for i in range(8,11):\n",
    "    i = 2**i\n",
    "    directions , thresholds = int(i), int(i)\n",
    "    trained_model = ect_train_validate(\n",
    "        num_dirs=directions,\n",
    "        num_thresh=thresholds,\n",
    "        input_path=class_items,\n",
    "        output_ect_path=f'outputs/output_{directions}_{thresholds}/ect',\n",
    "        output_model_path=f'outputs/output_{directions}_{thresholds}/best_model.pth',\n",
    "        num_workers=num_workers,\n",
    "        parallel=True,\n",
    "        batch_size=4,\n",
    "        num_epochs=NUM_EPOCHS,\n",
    "        log_level='None'\n",
    "    )\n",
    "    save_model(\n",
    "        epochs=trained_model[\"num_epochs\"],\n",
    "        model=trained_model[\"model\"],\n",
    "        optimizer=trained_model[\"optimizer\"],\n",
    "        criterion=trained_model[\"lossfcn\"],\n",
    "        output_model_path=f'outputs/output_{directions}_{thresholds}/best_model.pth',\n",
    "    )\n",
    "    loss, acc = plt.figure(figsize=(9,5)).subplots(1, 2)\n",
    "    save_plots(\n",
    "        train_acc= trained_model[\"train_acc\"],\n",
    "        valid_acc= trained_model[\"valid_acc\"],\n",
    "        train_loss= trained_model[\"train_loss\"],\n",
    "        valid_loss= trained_model[\"valid_loss\"],\n",
    "        loss=loss,\n",
    "        accuracy=acc,\n",
    "        accuracy_path=f'outputs/output_{directions}_{thresholds}/accuracy_loss.png',\n",
    "        loss_path=f'outputs/output_{directions}_{thresholds}/accuracy_loss.png'\n",
    "    )\n",
    "    ax = plt.figure( figsize=(24,24), dpi=300 ).add_subplot(111)\n",
    "    report_trained_model(\n",
    "        num_dirs=directions,\n",
    "        num_thresh=thresholds,\n",
    "        train_dataset=trained_model[\"train_dataset\"],\n",
    "        train_loader=trained_model[\"train_loader\"],\n",
    "        test_loader=trained_model[\"test_loader\"],\n",
    "        test_dataset=trained_model[\"test_dataset\"],\n",
    "        ax=ax,\n",
    "        model_path=f'outputs/output_{directions}_{thresholds}/best_model.pth',\n",
    "        output_cf=f'outputs/output_{directions}_{thresholds}/confusion_matrix.png',\n",
    "        output_report=f'outputs/output_{directions}_{thresholds}/accuracy.txt',\n",
    "        log_level='None'\n",
    "    )\n",
    "    plot_roc_curve(\n",
    "        model=trained_model[\"model\"],\n",
    "        test_loader=trained_model[\"test_loader\"],\n",
    "        test_dataset=trained_model[\"test_dataset\"],\n",
    "        output_path=f'outputs/output_{directions}_{thresholds}/roc_curve.png'\n",
    "    )\n",
    "    print(f\"Completed training for {directions} directions and {thresholds} thresholds\")"
   ]
  },
  {
   "cell_type": "code",
   "execution_count": null,
   "metadata": {},
   "outputs": [],
   "source": []
  }
 ],
 "metadata": {
  "kernelspec": {
   "display_name": "Python 3",
   "language": "python",
   "name": "python3"
  },
  "language_info": {
   "codemirror_mode": {
    "name": "ipython",
    "version": 3
   },
   "file_extension": ".py",
   "mimetype": "text/x-python",
   "name": "python",
   "nbconvert_exporter": "python",
   "pygments_lexer": "ipython3",
   "version": "3.12.7"
  }
 },
 "nbformat": 4,
 "nbformat_minor": 4
}
