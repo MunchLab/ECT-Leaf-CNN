{
 "cells": [
  {
   "cell_type": "code",
   "execution_count": 1,
   "metadata": {},
   "outputs": [],
   "source": [
    "import numpy as np\n",
    "import os\n",
    "import matplotlib.pyplot as plt\n",
    "import torch\n",
    "import torch.nn as nn\n",
    "\n",
    "# from itertools import starmap\n",
    "from utils import save_model, save_plots\n",
    "from CNN_execution import plot_roc_curve, ect_train_validate, report_trained_model, find_numpy_files"
   ]
  },
  {
   "cell_type": "code",
   "execution_count": 2,
   "metadata": {},
   "outputs": [],
   "source": [
    "# Parameters required to define the model. \n",
    "# Will remain same throught the excerise.\n",
    " \n",
    "NUM_EPOCHS = 50 # number of epochs to train the network for; type=int\n",
    "LEARNING_RATE = 1e-3 # learning rate for training; type=float\n",
    "# loss function\n",
    "lossfcn = nn.CrossEntropyLoss()\n",
    "\n",
    "# Number of workers for dataloader\n",
    "num_workers = int( os.environ.get('SLURM_CPUS_PER_TASK', default=0) )\n",
    "\n",
    "# device\n",
    "device = ('cuda' if torch.cuda.is_available() else 'cpu')"
   ]
  },
  {
   "cell_type": "code",
   "execution_count": 3,
   "metadata": {},
   "outputs": [
    {
     "name": "stdout",
     "output_type": "stream",
     "text": [
      "Using 865 data for training\n"
     ]
    }
   ],
   "source": [
    "num_dirs = 4\n",
    "num_thresh = 4\n",
    "\n",
    "data_dir = '../../data'\n",
    "classes = [\n",
    "    i\n",
    "        for i in os.listdir(data_dir)\n",
    "        if os.path.isdir(os.path.join(data_dir, i))\n",
    "]\n",
    "class_items = {\n",
    "    i: find_numpy_files(os.path.join(data_dir, i))\n",
    "        for i in classes\n",
    "}\n",
    "class_items.pop('Transect')\n",
    "class_items.pop('Leafsnap')\n",
    "\n",
    "num_data_to_use_for_training = min( [len(class_items[i]) for i in class_items] )\n",
    "# num_data_to_use_for_training = 30\n",
    "print(f\"Using {num_data_to_use_for_training} data for training\")\n",
    "\n",
    "batch_size = num_data_to_use_for_training // 11\n",
    "\n",
    "class_items = {\n",
    "    class_name: np.random.choice( file_paths, num_data_to_use_for_training, replace=False)\n",
    "        for class_name, file_paths in class_items.items()\n",
    "}"
   ]
  },
  {
   "cell_type": "code",
   "execution_count": 4,
   "metadata": {},
   "outputs": [
    {
     "name": "stdout",
     "output_type": "stream",
     "text": [
      "Help on function ect_train_validate in module CNN_execution:\n",
      "\n",
      "ect_train_validate(num_dirs, num_thresh, input_path=None, output_ect_path='example_data/ect_output', in_memory=False, output_model_path='outputs/best_model.pth', num_epochs=50, learning_rate=0.001, lossfcn=CrossEntropyLoss(), batch_size=4, valid_split=0.2, num_workers=0, device=device(type='cuda'), recompute_ect=True, log_level='INFO')\n",
      "    Function to train and validate the CNN model using the ECT dataset.\n",
      "    Usage:\n",
      "        ect_train_validate(\n",
      "            num_dirs, num_thresh, input_path=None,\n",
      "            output_ect_path=\"example_data/ect_output\", in_memory=False,\n",
      "            output_model_path=\"outputs/best_model.pth\",\n",
      "            num_epochs=50, learning_rate=1e-3, lossfcn=nn.CrossEntropyLoss(),\n",
      "            batch_size=4, valid_split=0.2, num_workers=0,\n",
      "            device=torch.device('cuda' if torch.cuda.is_available() else 'cpu'),\n",
      "            recompute_ect=True, log_level='INFO'\n",
      "        )\n",
      "    Parameters:\n",
      "        num_dirs: int, number of directions for ECT calculation.\n",
      "        num_thresh: int, number of thresholds for ECT calculation.\n",
      "        input_path: str, path to the input data directory.\n",
      "        output_ect_path: str, path to save the ECT dataset. Optional, default is 'example_data/ect_output'.\n",
      "        output_model_path: str, path to save the trained model. Optional, default is 'outputs/best_model.pth'.\n",
      "        in_memory: bool, if True, the calculated ECT dataset is stored in memory and never written to files. Optional, default is False.\n",
      "        num_epochs: int, number of epochs for training. Optional, default is 50.\n",
      "        learning_rate: float, learning rate for the optimizer. Optional, default is 1e-3.\n",
      "        lossfcn: torch.nn loss function, loss function for the model.\n",
      "            Optional, default is nn.CrossEntropyLoss().\n",
      "        batch_size: int,\n",
      "            Number of data loaded per epoch for training. Optional, default is 4.\n",
      "            Higher batch size will require more memory and may speed up the training. Howerver, it may cause the model to be stuck in local minima.\n",
      "            Lower batch size will require less memory and may slow down the training. However, it may help the model to escape local minima.\n",
      "            Smaller the batch size, the more epochs are required to train the model.\n",
      "        valid_split: float,\n",
      "            Fractional ratio of data to set aside for validation. Optional, default is 0.2.\n",
      "        num_workers: int,\n",
      "            Number of workers for the data loader. Optional, default is 0.\n",
      "            Represents the number of cpu cores used for data loading.\n",
      "            This is useful for speeding up the data loading step specially when using gpu to train the model.\n",
      "            However, it requires more memory.\n",
      "        device: torch.device,\n",
      "            Device to run the model.\n",
      "        recompute_ect: bool,\n",
      "            If True, compute the ECT dataset. Optional, default is True.\n",
      "            If False, the out_path is used as the precomputed ECT dataset.\n",
      "        log_level: str or bool,\n",
      "            If True or 'INFO', print progress messages.\n",
      "\n"
     ]
    }
   ],
   "source": [
    "help(ect_train_validate)\n",
    "\n",
    "# trained_outputs = ect_train_validate(\n",
    "#     num_dirs=num_dirs,\n",
    "#     num_thresh=num_thresh,\n",
    "#     input_path=class_items,\n",
    "#     output_ect_path='example_data/outputs',\n",
    "#     output_model_path='example_data/best_model.pth',\n",
    "#     log_level='INFO'\n",
    "# )"
   ]
  },
  {
   "cell_type": "code",
   "execution_count": 5,
   "metadata": {},
   "outputs": [
    {
     "name": "stdout",
     "output_type": "stream",
     "text": [
      "Help on function save_model in module utils:\n",
      "\n",
      "save_model(epochs, model, optimizer, criterion, output_model_path='outputs/best_model.pth')\n",
      "    Function to save the trained model.\n",
      "    Adapted from https://debuggercafe.com/saving-and-loading-the-best-model-in-pytorch/\n",
      "\n"
     ]
    }
   ],
   "source": [
    "help(save_model)\n",
    "# save_model(\n",
    "#     epochs=trained_outputs[\"num_epochs\"],\n",
    "#     model=trained_outputs[\"model\"],\n",
    "#     optimizer=trained_outputs[\"optimizer\"],\n",
    "#     criterion=trained_outputs[\"lossfcn\"],\n",
    "#     output_model_path='example_data/best_model.pth',\n",
    "# )\n"
   ]
  },
  {
   "cell_type": "code",
   "execution_count": 6,
   "metadata": {},
   "outputs": [
    {
     "name": "stdout",
     "output_type": "stream",
     "text": [
      "Help on function save_plots in module utils:\n",
      "\n",
      "save_plots(train_acc, valid_acc, train_loss, valid_loss, accuracy=None, loss=None, fig_size=(10, 7), dpi=300, accuracy_path='outputs/accuracy.png', loss_path='outputs/loss.png')\n",
      "    Function to save the loss and accuracy plots.\n",
      "    Usage:\n",
      "        save_plots(\n",
      "            train_acc, valid_acc, train_loss,valid_loss,\n",
      "            accuracy = None, loss = None,\n",
      "            fig_size=(10, 7), dpi=300,\n",
      "            accuracy_path = 'outputs/accuracy.png', loss_path = 'outputs/loss.png'\n",
      "        )\n",
      "    Parameters:\n",
      "        train_acc: list of training accuracy values\n",
      "        valid_acc: list of validation accuracy values\n",
      "        train_loss: list of training loss values\n",
      "        valid_loss: list of validation loss values\n",
      "        accuracy: matplotlib axis to plot accuracy. If None, a new figure is created.\n",
      "        loss: matplotlib axis to plot loss. If None, a new figure is created.\n",
      "        fig_size: tuple, size of the figure. Default is (10, 7)\n",
      "        dpi: int, resolution of the figure. Default is 300\n",
      "        accuracy_path: str, path to save the accuracy plot. Default is 'outputs/accuracy.png'\n",
      "        loss_path: str, path to save the loss plot. Default is 'outputs/loss.png'\n",
      "\n"
     ]
    }
   ],
   "source": [
    "help(save_plots)\n",
    "# loss, acc = plt.figure(figsize=(9,5)).subplots(1, 2)\n",
    "# save_plots(\n",
    "#     train_acc= trained_outputs[\"train_acc\"],\n",
    "#     valid_acc= trained_outputs[\"valid_acc\"],\n",
    "#     train_loss= trained_outputs[\"train_loss\"],\n",
    "#     valid_loss= trained_outputs[\"valid_loss\"],\n",
    "#     loss=loss,\n",
    "#     accuracy=acc,\n",
    "#     accuracy_path='example_data/accuracy.png',\n",
    "#     loss_path='example_data/loss.png'\n",
    "# )\n"
   ]
  },
  {
   "cell_type": "code",
   "execution_count": 7,
   "metadata": {},
   "outputs": [
    {
     "name": "stdout",
     "output_type": "stream",
     "text": [
      "Help on function report_trained_model in module CNN_execution:\n",
      "\n",
      "report_trained_model(num_dirs, num_thresh, train_dataset, train_loader, test_loader, test_dataset, device=device(type='cuda'), model_path='outputs/best_model.pth', ax=None, output_cf='outputs/confusion_matrix.png', output_report='outputs/outputCLFreport.csv', log_level='INFO')\n",
      "    Function to report the trained model.\n",
      "    Usage:\n",
      "        report_trained_model(\n",
      "            num_dirs, num_thresh,\n",
      "            train_dataset, train_loader, test_loader, test_dataset,\n",
      "            device=torch.device('cuda' if torch.cuda.is_available() else 'cpu'),\n",
      "            model_path= 'outputs/best_model.pth',\n",
      "            output_cf='outputs/confusion_matrix.png',\n",
      "            output_report='outputs/outputCLFreport.csv',\n",
      "            log_level='INFO'\n",
      "        )\n",
      "    Parameters:\n",
      "        num_dirs: int, number of directions for ECT calculation.\n",
      "        num_thresh: int, number of thresholds for ECT calculation.\n",
      "        train_dataset: torch.utils.data.Dataset, training dataset.\n",
      "        train_loader: torch.utils.data.DataLoader, training data loader.\n",
      "        test_loader: torch.utils.data.DataLoader, test data loader.\n",
      "        test_dataset: torch.utils.data.Dataset, test dataset.\n",
      "        device: torch.device, device to run the model. Optional, default is 'cuda' if available else 'cpu'.\n",
      "        model_path: str, path to the trained model. Optional, default is 'outputs/best_model.pth'.\n",
      "        ax: Axes, matplotlib figure axis to plot the confusion matrix on.\n",
      "        output_cf: str, path to save the confusion matrix plot. Optional, default is 'outputs/confusion_matrix.png'.\n",
      "        output_report: str, path to save the classification report. Optional, default is 'outputs/outputCLFreport.csv'.\n",
      "        log_level: str or bool, if True or 'INFO', print progress messages.\n",
      "\n"
     ]
    }
   ],
   "source": [
    "help(report_trained_model)\n",
    "# report_trained_model(\n",
    "#     num_dirs=num_dirs,\n",
    "#     num_thresh=num_thresh,\n",
    "#     train_dataset=trained_outputs[\"train_dataset\"],\n",
    "#     train_loader=trained_outputs[\"train_loader\"],\n",
    "#     test_loader=trained_outputs[\"test_loader\"],\n",
    "#     test_dataset=trained_outputs[\"test_dataset\"],\n",
    "#     model_path='example_data/best_model.pth',\n",
    "#     output_cf='example_data/confusion_matrix.png',\n",
    "#     output_report='example_data/accuracy.txt',\n",
    "#     log_level='INFO'\n",
    "# )"
   ]
  },
  {
   "cell_type": "code",
   "execution_count": 8,
   "metadata": {},
   "outputs": [
    {
     "name": "stdout",
     "output_type": "stream",
     "text": [
      "Help on function plot_roc_curve in module CNN_execution:\n",
      "\n",
      "plot_roc_curve(model, test_loader, test_dataset, device=device(type='cuda'), axis=None, output_path='outputs/roc_curve.png')\n",
      "    Function to plot the ROC curve for the trained model.\n",
      "    Usage:\n",
      "        plot_roc_curve(model, test_loader, test_dataset, device=torch.device('cuda' if torch.cuda.is_available() else 'cpu'))\n",
      "    Parameters:\n",
      "        model: torch.nn model, trained model.\n",
      "        test_loader: torch.utils.data.DataLoader, test data loader.\n",
      "        test_dataset: torch.utils.data.Dataset, test dataset.\n",
      "        device: torch.device, device to run the model. Optional, default is 'cuda' if available else 'cpu'.\n",
      "\n"
     ]
    }
   ],
   "source": [
    "help(plot_roc_curve)\n",
    "# plot_roc_curve(\n",
    "#     model=trained_outputs[\"model\"],\n",
    "#     test_loader=trained_outputs[\"test_loader\"],\n",
    "#     test_dataset=trained_outputs[\"test_dataset\"],\n",
    "#     output_path='example_data/roc_curve.png'\n",
    "# )"
   ]
  },
  {
   "cell_type": "code",
   "execution_count": null,
   "metadata": {
    "scrolled": true
   },
   "outputs": [
    {
     "name": "stderr",
     "output_type": "stream",
     "text": [
      "100%|██████████| 205/205 [00:03<00:00, 63.98it/s] "
     ]
    },
    {
     "name": "stdout",
     "output_type": "stream",
     "text": [
      "Validation\n"
     ]
    },
    {
     "name": "stderr",
     "output_type": "stream",
     "text": [
      "\n"
     ]
    },
    {
     "name": "stdout",
     "output_type": "stream",
     "text": [
      "Training loss: 2.623, training acc: 8.387\n",
      "Validation loss: 2.620, validation acc: 8.549\n",
      "\n",
      "Best validation loss: 2.6197767441089335\n",
      "\n",
      "Saving best model for epoch: 2\n",
      "\n",
      "--------------------------------------------------\n",
      "[INFO]: Epoch 3 of 10\n",
      "Training\n"
     ]
    },
    {
     "name": "stderr",
     "output_type": "stream",
     "text": [
      "100%|██████████| 205/205 [00:03<00:00, 56.36it/s] "
     ]
    },
    {
     "name": "stdout",
     "output_type": "stream",
     "text": [
      "Validation\n"
     ]
    },
    {
     "name": "stderr",
     "output_type": "stream",
     "text": [
      "\n"
     ]
    },
    {
     "name": "stdout",
     "output_type": "stream",
     "text": [
      "Training loss: 2.623, training acc: 8.469\n",
      "Validation loss: 2.620, validation acc: 8.549\n",
      "--------------------------------------------------\n",
      "[INFO]: Epoch 4 of 10\n",
      "Training\n"
     ]
    },
    {
     "name": "stderr",
     "output_type": "stream",
     "text": [
      "100%|██████████| 205/205 [00:03<00:00, 63.44it/s] "
     ]
    },
    {
     "name": "stdout",
     "output_type": "stream",
     "text": [
      "Validation\n"
     ]
    },
    {
     "name": "stderr",
     "output_type": "stream",
     "text": [
      "\n"
     ]
    },
    {
     "name": "stdout",
     "output_type": "stream",
     "text": [
      "Training loss: 2.622, training acc: 8.343\n",
      "Validation loss: 2.620, validation acc: 8.549\n",
      "\n",
      "Best validation loss: 2.6196577961628256\n",
      "\n",
      "Saving best model for epoch: 4\n",
      "\n",
      "--------------------------------------------------\n",
      "[INFO]: Epoch 5 of 10\n",
      "Training\n"
     ]
    },
    {
     "name": "stderr",
     "output_type": "stream",
     "text": [
      "100%|██████████| 205/205 [00:03<00:00, 63.83it/s] "
     ]
    },
    {
     "name": "stdout",
     "output_type": "stream",
     "text": [
      "Validation\n"
     ]
    },
    {
     "name": "stderr",
     "output_type": "stream",
     "text": [
      "\n"
     ]
    },
    {
     "name": "stdout",
     "output_type": "stream",
     "text": [
      "Training loss: 2.622, training acc: 8.262\n",
      "Validation loss: 2.621, validation acc: 8.549\n",
      "--------------------------------------------------\n",
      "[INFO]: Epoch 6 of 10\n",
      "Training\n"
     ]
    },
    {
     "name": "stderr",
     "output_type": "stream",
     "text": [
      "100%|██████████| 205/205 [00:03<00:00, 65.27it/s] "
     ]
    },
    {
     "name": "stdout",
     "output_type": "stream",
     "text": [
      "Validation\n"
     ]
    },
    {
     "name": "stderr",
     "output_type": "stream",
     "text": [
      "\n"
     ]
    },
    {
     "name": "stdout",
     "output_type": "stream",
     "text": [
      "Training loss: 2.623, training acc: 8.644\n",
      "Validation loss: 2.622, validation acc: 8.925\n",
      "--------------------------------------------------\n",
      "[INFO]: Epoch 7 of 10\n",
      "Training\n"
     ]
    },
    {
     "name": "stderr",
     "output_type": "stream",
     "text": [
      "100%|██████████| 205/205 [00:03<00:00, 63.96it/s] "
     ]
    },
    {
     "name": "stdout",
     "output_type": "stream",
     "text": [
      "Validation\n"
     ]
    },
    {
     "name": "stderr",
     "output_type": "stream",
     "text": [
      "\n"
     ]
    },
    {
     "name": "stdout",
     "output_type": "stream",
     "text": [
      "Training loss: 2.622, training acc: 8.531\n",
      "Validation loss: 2.619, validation acc: 8.925\n",
      "\n",
      "Best validation loss: 2.619488014624669\n",
      "\n",
      "Saving best model for epoch: 7\n",
      "\n",
      "--------------------------------------------------\n",
      "[INFO]: Epoch 8 of 10\n",
      "Training\n"
     ]
    },
    {
     "name": "stderr",
     "output_type": "stream",
     "text": [
      "100%|██████████| 205/205 [00:03<00:00, 61.14it/s] "
     ]
    },
    {
     "name": "stdout",
     "output_type": "stream",
     "text": [
      "Validation\n"
     ]
    },
    {
     "name": "stderr",
     "output_type": "stream",
     "text": [
      "\n"
     ]
    },
    {
     "name": "stdout",
     "output_type": "stream",
     "text": [
      "Training loss: 2.622, training acc: 8.770\n",
      "Validation loss: 2.621, validation acc: 8.549\n",
      "--------------------------------------------------\n",
      "[INFO]: Epoch 9 of 10\n",
      "Training\n"
     ]
    },
    {
     "name": "stderr",
     "output_type": "stream",
     "text": [
      "100%|██████████| 205/205 [00:03<00:00, 64.39it/s] "
     ]
    },
    {
     "name": "stdout",
     "output_type": "stream",
     "text": [
      "Validation\n"
     ]
    },
    {
     "name": "stderr",
     "output_type": "stream",
     "text": [
      "\n"
     ]
    },
    {
     "name": "stdout",
     "output_type": "stream",
     "text": [
      "Training loss: 2.622, training acc: 8.556\n",
      "Validation loss: 2.620, validation acc: 8.047\n",
      "--------------------------------------------------\n",
      "[INFO]: Epoch 10 of 10\n",
      "Training\n"
     ]
    },
    {
     "name": "stderr",
     "output_type": "stream",
     "text": [
      "100%|██████████| 205/205 [00:03<00:00, 64.25it/s] "
     ]
    },
    {
     "name": "stdout",
     "output_type": "stream",
     "text": [
      "Validation\n"
     ]
    },
    {
     "name": "stderr",
     "output_type": "stream",
     "text": [
      "\n"
     ]
    },
    {
     "name": "stdout",
     "output_type": "stream",
     "text": [
      "Training loss: 2.622, training acc: 8.538\n",
      "Validation loss: 2.621, validation acc: 8.549\n",
      "--------------------------------------------------\n",
      "Saving final model...\n"
     ]
    },
    {
     "name": "stderr",
     "output_type": "stream",
     "text": [
      "/mnt/ufs18/rs-037/HRT841_FS24_001/ECT-Leaf-CNN/leaf-example-tutorial/CNN_execution.py:233: FutureWarning: You are using `torch.load` with `weights_only=False` (the current default value), which uses the default pickle module implicitly. It is possible to construct malicious pickle data which will execute arbitrary code during unpickling (See https://github.com/pytorch/pytorch/blob/main/SECURITY.md#untrusted-models for more details). In a future release, the default value for `weights_only` will be flipped to `True`. This limits the functions that could be executed during unpickling. Arbitrary objects will no longer be allowed to be loaded via this mode unless they are explicitly allowlisted by the user via `torch.serialization.add_safe_globals`. We recommend you start setting `weights_only=True` for any use case where you don't have full control of the loaded file. Please open an issue on GitHub for any issues related to this experimental feature.\n",
      "  state_dict = torch.load(model_path)['model_state_dict']\n"
     ]
    },
    {
     "name": "stdout",
     "output_type": "stream",
     "text": [
      "Using validation to compute ROC curve\n"
     ]
    },
    {
     "name": "stderr",
     "output_type": "stream",
     "text": [
      "/mnt/home/karkinis/.conda/envs/ECT_CNN.gpu/lib/python3.12/site-packages/sklearn/metrics/_classification.py:1531: UndefinedMetricWarning: Precision is ill-defined and being set to 0.0 in labels with no predicted samples. Use `zero_division` parameter to control this behavior.\n",
      "  _warn_prf(average, modifier, f\"{metric.capitalize()} is\", len(result))\n",
      "/mnt/home/karkinis/.conda/envs/ECT_CNN.gpu/lib/python3.12/site-packages/sklearn/metrics/_classification.py:1531: UndefinedMetricWarning: Precision is ill-defined and being set to 0.0 in labels with no predicted samples. Use `zero_division` parameter to control this behavior.\n",
      "  _warn_prf(average, modifier, f\"{metric.capitalize()} is\", len(result))\n",
      "/mnt/home/karkinis/.conda/envs/ECT_CNN.gpu/lib/python3.12/site-packages/sklearn/metrics/_classification.py:1531: UndefinedMetricWarning: Precision is ill-defined and being set to 0.0 in labels with no predicted samples. Use `zero_division` parameter to control this behavior.\n",
      "  _warn_prf(average, modifier, f\"{metric.capitalize()} is\", len(result))\n",
      "100%|██████████| 52/52 [00:00<00:00, 170.07it/s]\n"
     ]
    },
    {
     "name": "stdout",
     "output_type": "stream",
     "text": [
      "Completed training for 32 directions and 32 thresholds\n",
      "num_classes= 14\n",
      "ECT data; using only normalize, rotation transforms on training data\n",
      "[INFO]: Epoch 1 of 10\n",
      "Training\n"
     ]
    },
    {
     "name": "stderr",
     "output_type": "stream",
     "text": [
      "100%|██████████| 145/145 [00:03<00:00, 44.31it/s] "
     ]
    },
    {
     "name": "stdout",
     "output_type": "stream",
     "text": [
      "Validation\n"
     ]
    },
    {
     "name": "stderr",
     "output_type": "stream",
     "text": [
      "\n"
     ]
    },
    {
     "name": "stdout",
     "output_type": "stream",
     "text": [
      "Training loss: 2.619, training acc: 11.357\n",
      "Validation loss: 2.609, validation acc: 12.136\n",
      "\n",
      "Best validation loss: 2.6089653453311406\n",
      "\n",
      "Saving best model for epoch: 1\n",
      "\n",
      "--------------------------------------------------\n",
      "[INFO]: Epoch 2 of 10\n",
      "Training\n"
     ]
    },
    {
     "name": "stderr",
     "output_type": "stream",
     "text": [
      "100%|██████████| 145/145 [00:03<00:00, 47.05it/s] "
     ]
    },
    {
     "name": "stdout",
     "output_type": "stream",
     "text": [
      "Validation\n"
     ]
    },
    {
     "name": "stderr",
     "output_type": "stream",
     "text": [
      "\n"
     ]
    },
    {
     "name": "stdout",
     "output_type": "stream",
     "text": [
      "Training loss: 2.608, training acc: 12.155\n",
      "Validation loss: 2.603, validation acc: 12.136\n",
      "\n",
      "Best validation loss: 2.6027658758936703\n",
      "\n",
      "Saving best model for epoch: 2\n",
      "\n",
      "--------------------------------------------------\n",
      "[INFO]: Epoch 3 of 10\n",
      "Training\n"
     ]
    },
    {
     "name": "stderr",
     "output_type": "stream",
     "text": [
      "100%|██████████| 145/145 [00:03<00:00, 46.09it/s] "
     ]
    },
    {
     "name": "stdout",
     "output_type": "stream",
     "text": [
      "Validation\n"
     ]
    },
    {
     "name": "stderr",
     "output_type": "stream",
     "text": [
      "\n"
     ]
    },
    {
     "name": "stdout",
     "output_type": "stream",
     "text": [
      "Training loss: 2.606, training acc: 12.155\n",
      "Validation loss: 2.604, validation acc: 12.136\n",
      "--------------------------------------------------\n",
      "[INFO]: Epoch 4 of 10\n",
      "Training\n"
     ]
    },
    {
     "name": "stderr",
     "output_type": "stream",
     "text": [
      "100%|██████████| 145/145 [00:03<00:00, 42.92it/s] "
     ]
    },
    {
     "name": "stdout",
     "output_type": "stream",
     "text": [
      "Validation\n"
     ]
    },
    {
     "name": "stderr",
     "output_type": "stream",
     "text": [
      "\n"
     ]
    },
    {
     "name": "stdout",
     "output_type": "stream",
     "text": [
      "Training loss: 2.607, training acc: 12.155\n",
      "Validation loss: 2.605, validation acc: 12.136\n",
      "--------------------------------------------------\n",
      "[INFO]: Epoch 5 of 10\n",
      "Training\n"
     ]
    },
    {
     "name": "stderr",
     "output_type": "stream",
     "text": [
      "100%|██████████| 145/145 [00:03<00:00, 48.21it/s] "
     ]
    },
    {
     "name": "stdout",
     "output_type": "stream",
     "text": [
      "Validation\n"
     ]
    },
    {
     "name": "stderr",
     "output_type": "stream",
     "text": [
      "\n"
     ]
    },
    {
     "name": "stdout",
     "output_type": "stream",
     "text": [
      "Training loss: 2.606, training acc: 12.155\n",
      "Validation loss: 2.609, validation acc: 12.136\n",
      "--------------------------------------------------\n",
      "[INFO]: Epoch 6 of 10\n",
      "Training\n"
     ]
    },
    {
     "name": "stderr",
     "output_type": "stream",
     "text": [
      "100%|██████████| 145/145 [00:03<00:00, 46.98it/s]"
     ]
    },
    {
     "name": "stdout",
     "output_type": "stream",
     "text": [
      "Validation\n"
     ]
    },
    {
     "name": "stderr",
     "output_type": "stream",
     "text": [
      "\n"
     ]
    },
    {
     "name": "stdout",
     "output_type": "stream",
     "text": [
      "Training loss: 2.606, training acc: 12.155\n",
      "Validation loss: 2.605, validation acc: 12.136\n",
      "--------------------------------------------------\n",
      "[INFO]: Epoch 7 of 10\n",
      "Training\n"
     ]
    },
    {
     "name": "stderr",
     "output_type": "stream",
     "text": [
      "100%|██████████| 145/145 [00:03<00:00, 42.46it/s] "
     ]
    },
    {
     "name": "stdout",
     "output_type": "stream",
     "text": [
      "Validation\n"
     ]
    },
    {
     "name": "stderr",
     "output_type": "stream",
     "text": [
      "\n"
     ]
    },
    {
     "name": "stdout",
     "output_type": "stream",
     "text": [
      "Training loss: 2.606, training acc: 12.155\n",
      "Validation loss: 2.606, validation acc: 12.136\n",
      "--------------------------------------------------\n",
      "[INFO]: Epoch 8 of 10\n",
      "Training\n"
     ]
    },
    {
     "name": "stderr",
     "output_type": "stream",
     "text": [
      "100%|██████████| 145/145 [00:03<00:00, 41.52it/s]"
     ]
    },
    {
     "name": "stdout",
     "output_type": "stream",
     "text": [
      "Validation\n"
     ]
    },
    {
     "name": "stderr",
     "output_type": "stream",
     "text": [
      "\n"
     ]
    },
    {
     "name": "stdout",
     "output_type": "stream",
     "text": [
      "Training loss: 2.606, training acc: 12.155\n",
      "Validation loss: 2.606, validation acc: 12.136\n",
      "--------------------------------------------------\n",
      "[INFO]: Epoch 9 of 10\n",
      "Training\n"
     ]
    },
    {
     "name": "stderr",
     "output_type": "stream",
     "text": [
      "100%|██████████| 145/145 [00:03<00:00, 44.46it/s] "
     ]
    },
    {
     "name": "stdout",
     "output_type": "stream",
     "text": [
      "Validation\n"
     ]
    },
    {
     "name": "stderr",
     "output_type": "stream",
     "text": [
      "\n"
     ]
    },
    {
     "name": "stdout",
     "output_type": "stream",
     "text": [
      "Training loss: 2.606, training acc: 12.155\n",
      "Validation loss: 2.606, validation acc: 12.136\n",
      "--------------------------------------------------\n",
      "[INFO]: Epoch 10 of 10\n",
      "Training\n"
     ]
    },
    {
     "name": "stderr",
     "output_type": "stream",
     "text": [
      "100%|██████████| 145/145 [00:03<00:00, 45.32it/s] "
     ]
    },
    {
     "name": "stdout",
     "output_type": "stream",
     "text": [
      "Validation\n"
     ]
    },
    {
     "name": "stderr",
     "output_type": "stream",
     "text": [
      "\n"
     ]
    },
    {
     "name": "stdout",
     "output_type": "stream",
     "text": [
      "Training loss: 2.606, training acc: 12.155\n",
      "Validation loss: 2.605, validation acc: 12.136\n",
      "--------------------------------------------------\n",
      "Saving final model...\n"
     ]
    },
    {
     "name": "stderr",
     "output_type": "stream",
     "text": [
      "/mnt/ufs18/rs-037/HRT841_FS24_001/ECT-Leaf-CNN/leaf-example-tutorial/CNN_execution.py:233: FutureWarning: You are using `torch.load` with `weights_only=False` (the current default value), which uses the default pickle module implicitly. It is possible to construct malicious pickle data which will execute arbitrary code during unpickling (See https://github.com/pytorch/pytorch/blob/main/SECURITY.md#untrusted-models for more details). In a future release, the default value for `weights_only` will be flipped to `True`. This limits the functions that could be executed during unpickling. Arbitrary objects will no longer be allowed to be loaded via this mode unless they are explicitly allowlisted by the user via `torch.serialization.add_safe_globals`. We recommend you start setting `weights_only=True` for any use case where you don't have full control of the loaded file. Please open an issue on GitHub for any issues related to this experimental feature.\n",
      "  state_dict = torch.load(model_path)['model_state_dict']\n"
     ]
    },
    {
     "name": "stdout",
     "output_type": "stream",
     "text": [
      "Using validation to compute ROC curve\n"
     ]
    },
    {
     "name": "stderr",
     "output_type": "stream",
     "text": [
      "/mnt/home/karkinis/.conda/envs/ECT_CNN.gpu/lib/python3.12/site-packages/sklearn/metrics/_classification.py:1531: UndefinedMetricWarning: Precision is ill-defined and being set to 0.0 in labels with no predicted samples. Use `zero_division` parameter to control this behavior.\n",
      "  _warn_prf(average, modifier, f\"{metric.capitalize()} is\", len(result))\n",
      "/mnt/home/karkinis/.conda/envs/ECT_CNN.gpu/lib/python3.12/site-packages/sklearn/metrics/_classification.py:1531: UndefinedMetricWarning: Precision is ill-defined and being set to 0.0 in labels with no predicted samples. Use `zero_division` parameter to control this behavior.\n",
      "  _warn_prf(average, modifier, f\"{metric.capitalize()} is\", len(result))\n",
      "/mnt/home/karkinis/.conda/envs/ECT_CNN.gpu/lib/python3.12/site-packages/sklearn/metrics/_classification.py:1531: UndefinedMetricWarning: Precision is ill-defined and being set to 0.0 in labels with no predicted samples. Use `zero_division` parameter to control this behavior.\n",
      "  _warn_prf(average, modifier, f\"{metric.capitalize()} is\", len(result))\n",
      "100%|██████████| 37/37 [00:00<00:00, 127.78it/s]\n"
     ]
    },
    {
     "name": "stdout",
     "output_type": "stream",
     "text": [
      "Completed training for 64 directions and 64 thresholds\n",
      "num_classes= 14\n",
      "ECT data; using only normalize, rotation transforms on training data\n",
      "[INFO]: Epoch 1 of 10\n",
      "Training\n"
     ]
    },
    {
     "name": "stderr",
     "output_type": "stream",
     "text": [
      "100%|██████████| 125/125 [00:03<00:00, 33.04it/s]"
     ]
    },
    {
     "name": "stdout",
     "output_type": "stream",
     "text": [
      "Validation\n"
     ]
    },
    {
     "name": "stderr",
     "output_type": "stream",
     "text": [
      "\n"
     ]
    },
    {
     "name": "stdout",
     "output_type": "stream",
     "text": [
      "Training loss: 2.755, training acc: 7.265\n",
      "Validation loss: 2.640, validation acc: 6.074\n",
      "\n",
      "Best validation loss: 2.6400466188788414\n",
      "\n",
      "Saving best model for epoch: 1\n",
      "\n",
      "--------------------------------------------------\n",
      "[INFO]: Epoch 2 of 10\n",
      "Training\n"
     ]
    },
    {
     "name": "stderr",
     "output_type": "stream",
     "text": [
      "100%|██████████| 125/125 [00:03<00:00, 32.25it/s]"
     ]
    },
    {
     "name": "stdout",
     "output_type": "stream",
     "text": [
      "Validation\n"
     ]
    },
    {
     "name": "stderr",
     "output_type": "stream",
     "text": [
      "\n"
     ]
    },
    {
     "name": "stdout",
     "output_type": "stream",
     "text": [
      "Training loss: 2.639, training acc: 7.254\n",
      "Validation loss: 2.640, validation acc: 6.074\n",
      "\n",
      "Best validation loss: 2.639979511499405\n",
      "\n",
      "Saving best model for epoch: 2\n",
      "\n",
      "--------------------------------------------------\n",
      "[INFO]: Epoch 3 of 10\n",
      "Training\n"
     ]
    },
    {
     "name": "stderr",
     "output_type": "stream",
     "text": [
      "100%|██████████| 125/125 [00:04<00:00, 30.95it/s]"
     ]
    },
    {
     "name": "stdout",
     "output_type": "stream",
     "text": [
      "Validation\n"
     ]
    },
    {
     "name": "stderr",
     "output_type": "stream",
     "text": [
      "\n"
     ]
    },
    {
     "name": "stdout",
     "output_type": "stream",
     "text": [
      "Training loss: 2.639, training acc: 7.420\n",
      "Validation loss: 2.640, validation acc: 6.074\n",
      "\n",
      "Best validation loss: 2.6397384107112885\n",
      "\n",
      "Saving best model for epoch: 3\n",
      "\n",
      "--------------------------------------------------\n",
      "[INFO]: Epoch 4 of 10\n",
      "Training\n"
     ]
    },
    {
     "name": "stderr",
     "output_type": "stream",
     "text": [
      "100%|██████████| 125/125 [00:04<00:00, 30.01it/s]"
     ]
    },
    {
     "name": "stdout",
     "output_type": "stream",
     "text": [
      "Validation\n"
     ]
    },
    {
     "name": "stderr",
     "output_type": "stream",
     "text": [
      "\n"
     ]
    },
    {
     "name": "stdout",
     "output_type": "stream",
     "text": [
      "Training loss: 2.639, training acc: 7.389\n",
      "Validation loss: 2.640, validation acc: 6.074\n",
      "--------------------------------------------------\n",
      "[INFO]: Epoch 5 of 10\n",
      "Training\n"
     ]
    },
    {
     "name": "stderr",
     "output_type": "stream",
     "text": [
      "100%|██████████| 125/125 [00:03<00:00, 33.93it/s]"
     ]
    },
    {
     "name": "stdout",
     "output_type": "stream",
     "text": [
      "Validation\n"
     ]
    },
    {
     "name": "stderr",
     "output_type": "stream",
     "text": [
      "\n"
     ]
    },
    {
     "name": "stdout",
     "output_type": "stream",
     "text": [
      "Training loss: 2.639, training acc: 7.420\n",
      "Validation loss: 2.641, validation acc: 6.074\n",
      "--------------------------------------------------\n",
      "[INFO]: Epoch 6 of 10\n",
      "Training\n"
     ]
    },
    {
     "name": "stderr",
     "output_type": "stream",
     "text": [
      "100%|██████████| 125/125 [00:03<00:00, 33.31it/s]"
     ]
    },
    {
     "name": "stdout",
     "output_type": "stream",
     "text": [
      "Validation\n"
     ]
    },
    {
     "name": "stderr",
     "output_type": "stream",
     "text": [
      "\n"
     ]
    },
    {
     "name": "stdout",
     "output_type": "stream",
     "text": [
      "Training loss: 2.639, training acc: 7.182\n",
      "Validation loss: 2.640, validation acc: 6.074\n",
      "--------------------------------------------------\n",
      "[INFO]: Epoch 7 of 10\n",
      "Training\n"
     ]
    },
    {
     "name": "stderr",
     "output_type": "stream",
     "text": [
      "100%|██████████| 125/125 [00:04<00:00, 29.59it/s]"
     ]
    },
    {
     "name": "stdout",
     "output_type": "stream",
     "text": [
      "Validation\n"
     ]
    },
    {
     "name": "stderr",
     "output_type": "stream",
     "text": [
      "\n"
     ]
    },
    {
     "name": "stdout",
     "output_type": "stream",
     "text": [
      "Training loss: 2.639, training acc: 7.420\n",
      "Validation loss: 2.641, validation acc: 6.074\n",
      "--------------------------------------------------\n",
      "[INFO]: Epoch 8 of 10\n",
      "Training\n"
     ]
    },
    {
     "name": "stderr",
     "output_type": "stream",
     "text": [
      "100%|██████████| 125/125 [00:03<00:00, 33.04it/s]"
     ]
    },
    {
     "name": "stdout",
     "output_type": "stream",
     "text": [
      "Validation\n"
     ]
    },
    {
     "name": "stderr",
     "output_type": "stream",
     "text": [
      "\n"
     ]
    },
    {
     "name": "stdout",
     "output_type": "stream",
     "text": [
      "Training loss: 2.639, training acc: 7.420\n",
      "Validation loss: 2.640, validation acc: 6.074\n",
      "--------------------------------------------------\n",
      "[INFO]: Epoch 9 of 10\n",
      "Training\n"
     ]
    },
    {
     "name": "stderr",
     "output_type": "stream",
     "text": [
      "100%|██████████| 125/125 [00:03<00:00, 33.86it/s]"
     ]
    },
    {
     "name": "stdout",
     "output_type": "stream",
     "text": [
      "Validation\n"
     ]
    },
    {
     "name": "stderr",
     "output_type": "stream",
     "text": [
      "\n"
     ]
    },
    {
     "name": "stdout",
     "output_type": "stream",
     "text": [
      "Training loss: 2.639, training acc: 7.079\n",
      "Validation loss: 2.641, validation acc: 6.074\n",
      "--------------------------------------------------\n",
      "[INFO]: Epoch 10 of 10\n",
      "Training\n"
     ]
    },
    {
     "name": "stderr",
     "output_type": "stream",
     "text": [
      "100%|██████████| 125/125 [00:03<00:00, 33.55it/s]"
     ]
    },
    {
     "name": "stdout",
     "output_type": "stream",
     "text": [
      "Validation\n"
     ]
    },
    {
     "name": "stderr",
     "output_type": "stream",
     "text": [
      "\n"
     ]
    },
    {
     "name": "stdout",
     "output_type": "stream",
     "text": [
      "Training loss: 2.639, training acc: 7.420\n",
      "Validation loss: 2.641, validation acc: 6.074\n",
      "--------------------------------------------------\n",
      "Saving final model...\n"
     ]
    },
    {
     "name": "stderr",
     "output_type": "stream",
     "text": [
      "/mnt/ufs18/rs-037/HRT841_FS24_001/ECT-Leaf-CNN/leaf-example-tutorial/CNN_execution.py:233: FutureWarning: You are using `torch.load` with `weights_only=False` (the current default value), which uses the default pickle module implicitly. It is possible to construct malicious pickle data which will execute arbitrary code during unpickling (See https://github.com/pytorch/pytorch/blob/main/SECURITY.md#untrusted-models for more details). In a future release, the default value for `weights_only` will be flipped to `True`. This limits the functions that could be executed during unpickling. Arbitrary objects will no longer be allowed to be loaded via this mode unless they are explicitly allowlisted by the user via `torch.serialization.add_safe_globals`. We recommend you start setting `weights_only=True` for any use case where you don't have full control of the loaded file. Please open an issue on GitHub for any issues related to this experimental feature.\n",
      "  state_dict = torch.load(model_path)['model_state_dict']\n"
     ]
    },
    {
     "name": "stdout",
     "output_type": "stream",
     "text": [
      "Using validation to compute ROC curve\n"
     ]
    },
    {
     "name": "stderr",
     "output_type": "stream",
     "text": [
      "/mnt/home/karkinis/.conda/envs/ECT_CNN.gpu/lib/python3.12/site-packages/sklearn/metrics/_classification.py:1531: UndefinedMetricWarning: Precision is ill-defined and being set to 0.0 in labels with no predicted samples. Use `zero_division` parameter to control this behavior.\n",
      "  _warn_prf(average, modifier, f\"{metric.capitalize()} is\", len(result))\n",
      "/mnt/home/karkinis/.conda/envs/ECT_CNN.gpu/lib/python3.12/site-packages/sklearn/metrics/_classification.py:1531: UndefinedMetricWarning: Precision is ill-defined and being set to 0.0 in labels with no predicted samples. Use `zero_division` parameter to control this behavior.\n",
      "  _warn_prf(average, modifier, f\"{metric.capitalize()} is\", len(result))\n",
      "/mnt/home/karkinis/.conda/envs/ECT_CNN.gpu/lib/python3.12/site-packages/sklearn/metrics/_classification.py:1531: UndefinedMetricWarning: Precision is ill-defined and being set to 0.0 in labels with no predicted samples. Use `zero_division` parameter to control this behavior.\n",
      "  _warn_prf(average, modifier, f\"{metric.capitalize()} is\", len(result))\n",
      "100%|██████████| 32/32 [00:00<00:00, 85.07it/s]\n"
     ]
    },
    {
     "name": "stdout",
     "output_type": "stream",
     "text": [
      "Completed training for 128 directions and 128 thresholds\n",
      "num_classes= 14\n",
      "ECT data; using only normalize, rotation transforms on training data\n",
      "[INFO]: Epoch 1 of 10\n",
      "Training\n"
     ]
    },
    {
     "name": "stderr",
     "output_type": "stream",
     "text": [
      "100%|██████████| 125/125 [00:05<00:00, 21.37it/s]"
     ]
    },
    {
     "name": "stdout",
     "output_type": "stream",
     "text": [
      "Validation\n"
     ]
    },
    {
     "name": "stderr",
     "output_type": "stream",
     "text": [
      "\n"
     ]
    },
    {
     "name": "stdout",
     "output_type": "stream",
     "text": [
      "Training loss: 3.095, training acc: 6.996\n",
      "Validation loss: 2.639, validation acc: 6.736\n",
      "\n",
      "Best validation loss: 2.638704888522625\n",
      "\n",
      "Saving best model for epoch: 1\n",
      "\n",
      "--------------------------------------------------\n",
      "[INFO]: Epoch 2 of 10\n",
      "Training\n"
     ]
    },
    {
     "name": "stderr",
     "output_type": "stream",
     "text": [
      "100%|██████████| 125/125 [00:06<00:00, 19.67it/s]"
     ]
    },
    {
     "name": "stdout",
     "output_type": "stream",
     "text": [
      "Validation\n"
     ]
    },
    {
     "name": "stderr",
     "output_type": "stream",
     "text": [
      "\n"
     ]
    },
    {
     "name": "stdout",
     "output_type": "stream",
     "text": [
      "Training loss: 2.640, training acc: 6.727\n",
      "Validation loss: 2.639, validation acc: 7.438\n",
      "--------------------------------------------------\n",
      "[INFO]: Epoch 3 of 10\n",
      "Training\n"
     ]
    },
    {
     "name": "stderr",
     "output_type": "stream",
     "text": [
      "100%|██████████| 125/125 [00:05<00:00, 22.11it/s]"
     ]
    },
    {
     "name": "stdout",
     "output_type": "stream",
     "text": [
      "Validation\n"
     ]
    },
    {
     "name": "stderr",
     "output_type": "stream",
     "text": [
      "\n"
     ]
    },
    {
     "name": "stdout",
     "output_type": "stream",
     "text": [
      "Training loss: 2.640, training acc: 6.779\n",
      "Validation loss: 2.639, validation acc: 6.736\n",
      "--------------------------------------------------\n",
      "[INFO]: Epoch 4 of 10\n",
      "Training\n"
     ]
    },
    {
     "name": "stderr",
     "output_type": "stream",
     "text": [
      "100%|██████████| 125/125 [00:05<00:00, 22.31it/s]"
     ]
    },
    {
     "name": "stdout",
     "output_type": "stream",
     "text": [
      "Validation\n"
     ]
    },
    {
     "name": "stderr",
     "output_type": "stream",
     "text": [
      "\n"
     ]
    },
    {
     "name": "stdout",
     "output_type": "stream",
     "text": [
      "Training loss: 2.639, training acc: 6.407\n",
      "Validation loss: 2.639, validation acc: 7.438\n",
      "--------------------------------------------------\n",
      "[INFO]: Epoch 5 of 10\n",
      "Training\n"
     ]
    },
    {
     "name": "stderr",
     "output_type": "stream",
     "text": [
      "100%|██████████| 125/125 [00:05<00:00, 21.72it/s]"
     ]
    },
    {
     "name": "stdout",
     "output_type": "stream",
     "text": [
      "Validation\n"
     ]
    },
    {
     "name": "stderr",
     "output_type": "stream",
     "text": [
      "\n"
     ]
    },
    {
     "name": "stdout",
     "output_type": "stream",
     "text": [
      "Training loss: 2.639, training acc: 6.934\n",
      "Validation loss: 2.639, validation acc: 6.736\n",
      "--------------------------------------------------\n",
      "[INFO]: Epoch 6 of 10\n",
      "Training\n"
     ]
    },
    {
     "name": "stderr",
     "output_type": "stream",
     "text": [
      "100%|██████████| 125/125 [00:05<00:00, 21.65it/s]"
     ]
    },
    {
     "name": "stdout",
     "output_type": "stream",
     "text": [
      "Validation\n"
     ]
    },
    {
     "name": "stderr",
     "output_type": "stream",
     "text": [
      "\n"
     ]
    },
    {
     "name": "stdout",
     "output_type": "stream",
     "text": [
      "Training loss: 2.639, training acc: 7.058\n",
      "Validation loss: 2.640, validation acc: 6.281\n",
      "--------------------------------------------------\n",
      "[INFO]: Epoch 7 of 10\n",
      "Training\n"
     ]
    },
    {
     "name": "stderr",
     "output_type": "stream",
     "text": [
      "100%|██████████| 125/125 [00:05<00:00, 21.09it/s]"
     ]
    },
    {
     "name": "stdout",
     "output_type": "stream",
     "text": [
      "Validation\n"
     ]
    },
    {
     "name": "stderr",
     "output_type": "stream",
     "text": [
      "\n"
     ]
    },
    {
     "name": "stdout",
     "output_type": "stream",
     "text": [
      "Training loss: 2.639, training acc: 7.099\n",
      "Validation loss: 2.640, validation acc: 6.281\n",
      "--------------------------------------------------\n",
      "[INFO]: Epoch 8 of 10\n",
      "Training\n"
     ]
    },
    {
     "name": "stderr",
     "output_type": "stream",
     "text": [
      "100%|██████████| 125/125 [00:05<00:00, 22.32it/s]"
     ]
    },
    {
     "name": "stdout",
     "output_type": "stream",
     "text": [
      "Validation\n"
     ]
    },
    {
     "name": "stderr",
     "output_type": "stream",
     "text": [
      "\n"
     ]
    },
    {
     "name": "stdout",
     "output_type": "stream",
     "text": [
      "Training loss: 2.639, training acc: 7.213\n",
      "Validation loss: 2.639, validation acc: 6.281\n",
      "--------------------------------------------------\n",
      "[INFO]: Epoch 9 of 10\n",
      "Training\n"
     ]
    },
    {
     "name": "stderr",
     "output_type": "stream",
     "text": [
      "100%|██████████| 125/125 [00:05<00:00, 22.32it/s]"
     ]
    },
    {
     "name": "stdout",
     "output_type": "stream",
     "text": [
      "Validation\n"
     ]
    },
    {
     "name": "stderr",
     "output_type": "stream",
     "text": [
      "\n"
     ]
    },
    {
     "name": "stdout",
     "output_type": "stream",
     "text": [
      "Training loss: 2.639, training acc: 7.368\n",
      "Validation loss: 2.640, validation acc: 6.281\n",
      "--------------------------------------------------\n",
      "[INFO]: Epoch 10 of 10\n",
      "Training\n"
     ]
    },
    {
     "name": "stderr",
     "output_type": "stream",
     "text": [
      "100%|██████████| 125/125 [00:06<00:00, 20.11it/s]"
     ]
    },
    {
     "name": "stdout",
     "output_type": "stream",
     "text": [
      "Validation\n"
     ]
    },
    {
     "name": "stderr",
     "output_type": "stream",
     "text": [
      "\n"
     ]
    },
    {
     "name": "stdout",
     "output_type": "stream",
     "text": [
      "Training loss: 2.639, training acc: 7.368\n",
      "Validation loss: 2.640, validation acc: 6.281\n",
      "--------------------------------------------------\n",
      "Saving final model...\n"
     ]
    },
    {
     "name": "stderr",
     "output_type": "stream",
     "text": [
      "/mnt/ufs18/rs-037/HRT841_FS24_001/ECT-Leaf-CNN/leaf-example-tutorial/CNN_execution.py:233: FutureWarning: You are using `torch.load` with `weights_only=False` (the current default value), which uses the default pickle module implicitly. It is possible to construct malicious pickle data which will execute arbitrary code during unpickling (See https://github.com/pytorch/pytorch/blob/main/SECURITY.md#untrusted-models for more details). In a future release, the default value for `weights_only` will be flipped to `True`. This limits the functions that could be executed during unpickling. Arbitrary objects will no longer be allowed to be loaded via this mode unless they are explicitly allowlisted by the user via `torch.serialization.add_safe_globals`. We recommend you start setting `weights_only=True` for any use case where you don't have full control of the loaded file. Please open an issue on GitHub for any issues related to this experimental feature.\n",
      "  state_dict = torch.load(model_path)['model_state_dict']\n"
     ]
    },
    {
     "name": "stdout",
     "output_type": "stream",
     "text": [
      "Using validation to compute ROC curve\n"
     ]
    },
    {
     "name": "stderr",
     "output_type": "stream",
     "text": [
      "/mnt/home/karkinis/.conda/envs/ECT_CNN.gpu/lib/python3.12/site-packages/sklearn/metrics/_classification.py:1531: UndefinedMetricWarning: Precision is ill-defined and being set to 0.0 in labels with no predicted samples. Use `zero_division` parameter to control this behavior.\n",
      "  _warn_prf(average, modifier, f\"{metric.capitalize()} is\", len(result))\n",
      "/mnt/home/karkinis/.conda/envs/ECT_CNN.gpu/lib/python3.12/site-packages/sklearn/metrics/_classification.py:1531: UndefinedMetricWarning: Precision is ill-defined and being set to 0.0 in labels with no predicted samples. Use `zero_division` parameter to control this behavior.\n",
      "  _warn_prf(average, modifier, f\"{metric.capitalize()} is\", len(result))\n",
      "/mnt/home/karkinis/.conda/envs/ECT_CNN.gpu/lib/python3.12/site-packages/sklearn/metrics/_classification.py:1531: UndefinedMetricWarning: Precision is ill-defined and being set to 0.0 in labels with no predicted samples. Use `zero_division` parameter to control this behavior.\n",
      "  _warn_prf(average, modifier, f\"{metric.capitalize()} is\", len(result))\n",
      "/mnt/ufs18/rs-037/HRT841_FS24_001/ECT-Leaf-CNN/leaf-example-tutorial/CNN_execution.py:390: RuntimeWarning: More than 20 figures have been opened. Figures created through the pyplot interface (`matplotlib.pyplot.figure`) are retained until explicitly closed and may consume too much memory. (To control this warning, see the rcParam `figure.max_open_warning`). Consider using `matplotlib.pyplot.close()`.\n",
      "  ax = plt.figure().add_subplot(111)\n",
      "100%|██████████| 32/32 [00:00<00:00, 57.99it/s] \n"
     ]
    },
    {
     "name": "stdout",
     "output_type": "stream",
     "text": [
      "Completed training for 256 directions and 256 thresholds\n",
      "num_classes= 14\n"
     ]
    }
   ],
   "source": [
    "for i in 2** np.linspace(2,11,10):\n",
    "    directions , thresholds = int(i), int(i)\n",
    "    trained_model = ect_train_validate(\n",
    "        num_dirs=directions,\n",
    "        num_thresh=thresholds,\n",
    "        input_path=class_items,\n",
    "        output_ect_path=f'outputs/output_{directions}_{thresholds}/ect',\n",
    "        output_model_path=f'outputs/output_{directions}_{thresholds}/best_model.pth',\n",
    "        num_workers=num_workers,\n",
    "        batch_size=batch_size,\n",
    "        num_epochs=10,\n",
    "        recompute_ect=False,\n",
    "        log_level='INFO'\n",
    "    )\n",
    "    save_model(\n",
    "        epochs=trained_model[\"num_epochs\"],\n",
    "        model=trained_model[\"model\"],\n",
    "        optimizer=trained_model[\"optimizer\"],\n",
    "        criterion=trained_model[\"lossfcn\"],\n",
    "        output_model_path=f'outputs/output_{directions}_{thresholds}/best_model.pth',\n",
    "    )\n",
    "    loss, acc = plt.figure(figsize=(9,5)).subplots(1, 2)\n",
    "    save_plots(\n",
    "        train_acc= trained_model[\"train_acc\"],\n",
    "        valid_acc= trained_model[\"valid_acc\"],\n",
    "        train_loss= trained_model[\"train_loss\"],\n",
    "        valid_loss= trained_model[\"valid_loss\"],\n",
    "        loss=loss,\n",
    "        accuracy=acc,\n",
    "        accuracy_path=f'outputs/output_{directions}_{thresholds}/accuracy_loss.png',\n",
    "        loss_path=f'outputs/output_{directions}_{thresholds}/accuracy_loss.png'\n",
    "    )\n",
    "    ax = plt.figure( figsize=(24,24), dpi=300 ).add_subplot(111)\n",
    "    report_trained_model(\n",
    "        num_dirs=directions,\n",
    "        num_thresh=thresholds,\n",
    "        train_dataset=trained_model[\"train_dataset\"],\n",
    "        train_loader=trained_model[\"train_loader\"],\n",
    "        test_loader=trained_model[\"test_loader\"],\n",
    "        test_dataset=trained_model[\"test_dataset\"],\n",
    "        ax=ax,\n",
    "        model_path=f'outputs/output_{directions}_{thresholds}/best_model.pth',\n",
    "        output_cf=f'outputs/output_{directions}_{thresholds}/confusion_matrix.png',\n",
    "        output_report=f'outputs/output_{directions}_{thresholds}/accuracy.txt',\n",
    "        log_level='None'\n",
    "    )\n",
    "    plot_roc_curve(\n",
    "        model=trained_model[\"model\"],\n",
    "        test_loader=trained_model[\"test_loader\"],\n",
    "        test_dataset=trained_model[\"test_dataset\"],\n",
    "        output_path=f'outputs/output_{directions}_{thresholds}/roc_curve.png'\n",
    "    )\n",
    "    print(f\"Completed training for {directions} directions and {thresholds} thresholds\")"
   ]
  },
  {
   "cell_type": "code",
   "execution_count": null,
   "metadata": {},
   "outputs": [],
   "source": []
  },
  {
   "cell_type": "code",
   "execution_count": null,
   "metadata": {},
   "outputs": [],
   "source": []
  }
 ],
 "metadata": {
  "kernelspec": {
   "display_name": "Python 3 (ipykernel)",
   "language": "python",
   "name": "python3"
  },
  "language_info": {
   "codemirror_mode": {
    "name": "ipython",
    "version": 3
   },
   "file_extension": ".py",
   "mimetype": "text/x-python",
   "name": "python",
   "nbconvert_exporter": "python",
   "pygments_lexer": "ipython3",
   "version": "3.13.0"
  }
 },
 "nbformat": 4,
 "nbformat_minor": 4
}
